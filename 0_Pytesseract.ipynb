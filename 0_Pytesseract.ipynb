{
 "cells": [
  {
   "cell_type": "code",
   "execution_count": 1,
   "id": "0f73bd46",
   "metadata": {},
   "outputs": [],
   "source": [
    "import numpy\n",
    "import pytesseract\n",
    "import pandas\n",
    "import PIL\n",
    "import cv2"
   ]
  },
  {
   "cell_type": "code",
   "execution_count": null,
   "id": "cbf3a726",
   "metadata": {},
   "outputs": [],
   "source": []
  },
  {
   "cell_type": "code",
   "execution_count": null,
   "id": "e4e3b816",
   "metadata": {},
   "outputs": [],
   "source": [
    "\n",
    "\n",
    "img_cv2 = cv2.imread('./base/Selected/052.jpeg')\n",
    "cv2.imshow(\"Business Card\", img_cv2)\n",
    "cv2.waitKey(0)\n",
    "cv2.destroyAllWindows()"
   ]
  },
  {
   "cell_type": "code",
   "execution_count": null,
   "id": "0150bc4f",
   "metadata": {},
   "outputs": [],
   "source": [
    "img_pl = PIL.Image.open('./base/Selected/052.jpeg')"
   ]
  },
  {
   "cell_type": "code",
   "execution_count": null,
   "id": "638c8527",
   "metadata": {},
   "outputs": [],
   "source": [
    "img_pl"
   ]
  },
  {
   "cell_type": "code",
   "execution_count": null,
   "id": "eb1cc10c",
   "metadata": {},
   "outputs": [],
   "source": [
    "text_cv = pytesseract.image_to_string(img_cv2)"
   ]
  },
  {
   "cell_type": "code",
   "execution_count": null,
   "id": "aaefa990",
   "metadata": {},
   "outputs": [],
   "source": [
    "print(text_cv)"
   ]
  },
  {
   "cell_type": "code",
   "execution_count": null,
   "id": "61d9feee",
   "metadata": {},
   "outputs": [],
   "source": []
  },
  {
   "cell_type": "code",
   "execution_count": null,
   "id": "a6f4a770",
   "metadata": {},
   "outputs": [],
   "source": []
  },
  {
   "cell_type": "code",
   "execution_count": null,
   "id": "d0f1ed36",
   "metadata": {},
   "outputs": [],
   "source": []
  }
 ],
 "metadata": {
  "kernelspec": {
   "display_name": "Python 3 (ipykernel)",
   "language": "python",
   "name": "python3"
  },
  "language_info": {
   "codemirror_mode": {
    "name": "ipython",
    "version": 3
   },
   "file_extension": ".py",
   "mimetype": "text/x-python",
   "name": "python",
   "nbconvert_exporter": "python",
   "pygments_lexer": "ipython3",
   "version": "3.8.10"
  }
 },
 "nbformat": 4,
 "nbformat_minor": 5
}
